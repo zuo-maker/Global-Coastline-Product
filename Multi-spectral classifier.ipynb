{
 "cells": [
  {
   "cell_type": "code",
   "execution_count": 9,
   "id": "7276e8f1",
   "metadata": {},
   "outputs": [],
   "source": [
    "import pandas as pd\n",
    "import numpy as np\n",
    "from sklearn.metrics import f1_score\n",
    "from sklearn.metrics import confusion_matrix"
   ]
  },
  {
   "cell_type": "code",
   "execution_count": 12,
   "id": "c738c1bc-80be-4af0-8dca-b9d0003b79de",
   "metadata": {},
   "outputs": [],
   "source": [
    "path = ''\n",
    "rawdata = pd.read_csv(path)#字段名为中文，编码方式指定为gbk"
   ]
  },
  {
   "cell_type": "code",
   "execution_count": 13,
   "id": "9e4d557d",
   "metadata": {
    "scrolled": true
   },
   "outputs": [
    {
     "data": {
      "text/html": [
       "<div>\n",
       "<style scoped>\n",
       "    .dataframe tbody tr th:only-of-type {\n",
       "        vertical-align: middle;\n",
       "    }\n",
       "\n",
       "    .dataframe tbody tr th {\n",
       "        vertical-align: top;\n",
       "    }\n",
       "\n",
       "    .dataframe thead th {\n",
       "        text-align: right;\n",
       "    }\n",
       "</style>\n",
       "<table border=\"1\" class=\"dataframe\">\n",
       "  <thead>\n",
       "    <tr style=\"text-align: right;\">\n",
       "      <th></th>\n",
       "      <th>class</th>\n",
       "      <th>EVI</th>\n",
       "      <th>EVI_variance</th>\n",
       "      <th>MNDWI</th>\n",
       "      <th>MNDWI_variance</th>\n",
       "      <th>NDBI</th>\n",
       "      <th>NDBI_variance</th>\n",
       "      <th>NDVI</th>\n",
       "      <th>NDVI_variance</th>\n",
       "      <th>NDWI</th>\n",
       "      <th>...</th>\n",
       "      <th>SR_B2_variance</th>\n",
       "      <th>SR_B3</th>\n",
       "      <th>SR_B3_variance</th>\n",
       "      <th>SR_B4</th>\n",
       "      <th>SR_B4_variance</th>\n",
       "      <th>SR_B5</th>\n",
       "      <th>SR_B5_variance</th>\n",
       "      <th>SR_B6</th>\n",
       "      <th>SR_B6_variance</th>\n",
       "      <th>SR_B7</th>\n",
       "    </tr>\n",
       "  </thead>\n",
       "  <tbody>\n",
       "    <tr>\n",
       "      <th>count</th>\n",
       "      <td>289.000000</td>\n",
       "      <td>289.000000</td>\n",
       "      <td>289.000000</td>\n",
       "      <td>289.000000</td>\n",
       "      <td>289.000000</td>\n",
       "      <td>289.000000</td>\n",
       "      <td>289.000000</td>\n",
       "      <td>289.000000</td>\n",
       "      <td>289.000000</td>\n",
       "      <td>289.000000</td>\n",
       "      <td>...</td>\n",
       "      <td>2.890000e+02</td>\n",
       "      <td>289.000000</td>\n",
       "      <td>2.890000e+02</td>\n",
       "      <td>289.000000</td>\n",
       "      <td>2.890000e+02</td>\n",
       "      <td>289.000000</td>\n",
       "      <td>2.890000e+02</td>\n",
       "      <td>289.000000</td>\n",
       "      <td>2.890000e+02</td>\n",
       "      <td>289.000000</td>\n",
       "    </tr>\n",
       "    <tr>\n",
       "      <th>mean</th>\n",
       "      <td>2.446367</td>\n",
       "      <td>1.025010</td>\n",
       "      <td>341.413134</td>\n",
       "      <td>-0.024416</td>\n",
       "      <td>0.022125</td>\n",
       "      <td>-0.097391</td>\n",
       "      <td>0.010937</td>\n",
       "      <td>0.114877</td>\n",
       "      <td>0.007879</td>\n",
       "      <td>-0.110679</td>\n",
       "      <td>...</td>\n",
       "      <td>9.045522e+07</td>\n",
       "      <td>10615.830450</td>\n",
       "      <td>7.408582e+07</td>\n",
       "      <td>10506.498270</td>\n",
       "      <td>7.412261e+07</td>\n",
       "      <td>14382.070934</td>\n",
       "      <td>5.333776e+07</td>\n",
       "      <td>12262.877163</td>\n",
       "      <td>2.093613e+07</td>\n",
       "      <td>10549.685121</td>\n",
       "    </tr>\n",
       "    <tr>\n",
       "      <th>std</th>\n",
       "      <td>1.348119</td>\n",
       "      <td>1.005647</td>\n",
       "      <td>2029.001574</td>\n",
       "      <td>0.105988</td>\n",
       "      <td>0.019513</td>\n",
       "      <td>0.082826</td>\n",
       "      <td>0.011512</td>\n",
       "      <td>0.121867</td>\n",
       "      <td>0.007395</td>\n",
       "      <td>0.119202</td>\n",
       "      <td>...</td>\n",
       "      <td>5.521805e+07</td>\n",
       "      <td>1993.101545</td>\n",
       "      <td>4.552992e+07</td>\n",
       "      <td>2314.278669</td>\n",
       "      <td>4.505212e+07</td>\n",
       "      <td>3437.379850</td>\n",
       "      <td>3.267819e+07</td>\n",
       "      <td>3322.113324</td>\n",
       "      <td>1.318477e+07</td>\n",
       "      <td>2737.395136</td>\n",
       "    </tr>\n",
       "    <tr>\n",
       "      <th>min</th>\n",
       "      <td>0.000000</td>\n",
       "      <td>-0.327969</td>\n",
       "      <td>0.009430</td>\n",
       "      <td>-0.257568</td>\n",
       "      <td>0.001586</td>\n",
       "      <td>-0.311892</td>\n",
       "      <td>0.000345</td>\n",
       "      <td>-0.223688</td>\n",
       "      <td>0.000105</td>\n",
       "      <td>-0.360974</td>\n",
       "      <td>...</td>\n",
       "      <td>1.162786e+06</td>\n",
       "      <td>7927.500000</td>\n",
       "      <td>1.564462e+06</td>\n",
       "      <td>7553.000000</td>\n",
       "      <td>1.680375e+06</td>\n",
       "      <td>7087.000000</td>\n",
       "      <td>1.477863e+06</td>\n",
       "      <td>7342.000000</td>\n",
       "      <td>6.685352e+04</td>\n",
       "      <td>7293.000000</td>\n",
       "    </tr>\n",
       "    <tr>\n",
       "      <th>25%</th>\n",
       "      <td>2.000000</td>\n",
       "      <td>0.221184</td>\n",
       "      <td>0.823370</td>\n",
       "      <td>-0.097653</td>\n",
       "      <td>0.007995</td>\n",
       "      <td>-0.156229</td>\n",
       "      <td>0.003191</td>\n",
       "      <td>0.021142</td>\n",
       "      <td>0.001999</td>\n",
       "      <td>-0.210371</td>\n",
       "      <td>...</td>\n",
       "      <td>5.040000e+07</td>\n",
       "      <td>9096.000000</td>\n",
       "      <td>4.090000e+07</td>\n",
       "      <td>8584.000000</td>\n",
       "      <td>3.960000e+07</td>\n",
       "      <td>11749.500000</td>\n",
       "      <td>2.760000e+07</td>\n",
       "      <td>9770.000000</td>\n",
       "      <td>9.838396e+06</td>\n",
       "      <td>8597.500000</td>\n",
       "    </tr>\n",
       "    <tr>\n",
       "      <th>50%</th>\n",
       "      <td>2.000000</td>\n",
       "      <td>0.621692</td>\n",
       "      <td>2.865230</td>\n",
       "      <td>-0.049335</td>\n",
       "      <td>0.014833</td>\n",
       "      <td>-0.086684</td>\n",
       "      <td>0.006563</td>\n",
       "      <td>0.085304</td>\n",
       "      <td>0.004807</td>\n",
       "      <td>-0.099744</td>\n",
       "      <td>...</td>\n",
       "      <td>8.040000e+07</td>\n",
       "      <td>10084.000000</td>\n",
       "      <td>6.820000e+07</td>\n",
       "      <td>9983.500000</td>\n",
       "      <td>6.720000e+07</td>\n",
       "      <td>14738.500000</td>\n",
       "      <td>4.980000e+07</td>\n",
       "      <td>11277.500000</td>\n",
       "      <td>2.050000e+07</td>\n",
       "      <td>9380.000000</td>\n",
       "    </tr>\n",
       "    <tr>\n",
       "      <th>75%</th>\n",
       "      <td>4.000000</td>\n",
       "      <td>1.756799</td>\n",
       "      <td>17.669651</td>\n",
       "      <td>0.051975</td>\n",
       "      <td>0.029932</td>\n",
       "      <td>-0.035391</td>\n",
       "      <td>0.014132</td>\n",
       "      <td>0.198261</td>\n",
       "      <td>0.012390</td>\n",
       "      <td>-0.018799</td>\n",
       "      <td>...</td>\n",
       "      <td>1.290000e+08</td>\n",
       "      <td>11803.000000</td>\n",
       "      <td>1.070000e+08</td>\n",
       "      <td>11664.000000</td>\n",
       "      <td>1.080000e+08</td>\n",
       "      <td>16921.000000</td>\n",
       "      <td>7.210000e+07</td>\n",
       "      <td>14294.000000</td>\n",
       "      <td>2.900000e+07</td>\n",
       "      <td>12094.000000</td>\n",
       "    </tr>\n",
       "    <tr>\n",
       "      <th>max</th>\n",
       "      <td>4.000000</td>\n",
       "      <td>3.845642</td>\n",
       "      <td>26685.587080</td>\n",
       "      <td>0.290441</td>\n",
       "      <td>0.090896</td>\n",
       "      <td>0.075341</td>\n",
       "      <td>0.060323</td>\n",
       "      <td>0.394617</td>\n",
       "      <td>0.033647</td>\n",
       "      <td>0.334550</td>\n",
       "      <td>...</td>\n",
       "      <td>2.470000e+08</td>\n",
       "      <td>21548.500000</td>\n",
       "      <td>2.160000e+08</td>\n",
       "      <td>22689.000000</td>\n",
       "      <td>2.190000e+08</td>\n",
       "      <td>23123.000000</td>\n",
       "      <td>1.600000e+08</td>\n",
       "      <td>25693.500000</td>\n",
       "      <td>6.470000e+07</td>\n",
       "      <td>23328.500000</td>\n",
       "    </tr>\n",
       "  </tbody>\n",
       "</table>\n",
       "<p>8 rows × 25 columns</p>\n",
       "</div>"
      ],
      "text/plain": [
       "            class         EVI  EVI_variance       MNDWI  MNDWI_variance  \\\n",
       "count  289.000000  289.000000    289.000000  289.000000      289.000000   \n",
       "mean     2.446367    1.025010    341.413134   -0.024416        0.022125   \n",
       "std      1.348119    1.005647   2029.001574    0.105988        0.019513   \n",
       "min      0.000000   -0.327969      0.009430   -0.257568        0.001586   \n",
       "25%      2.000000    0.221184      0.823370   -0.097653        0.007995   \n",
       "50%      2.000000    0.621692      2.865230   -0.049335        0.014833   \n",
       "75%      4.000000    1.756799     17.669651    0.051975        0.029932   \n",
       "max      4.000000    3.845642  26685.587080    0.290441        0.090896   \n",
       "\n",
       "             NDBI  NDBI_variance        NDVI  NDVI_variance        NDWI  ...  \\\n",
       "count  289.000000     289.000000  289.000000     289.000000  289.000000  ...   \n",
       "mean    -0.097391       0.010937    0.114877       0.007879   -0.110679  ...   \n",
       "std      0.082826       0.011512    0.121867       0.007395    0.119202  ...   \n",
       "min     -0.311892       0.000345   -0.223688       0.000105   -0.360974  ...   \n",
       "25%     -0.156229       0.003191    0.021142       0.001999   -0.210371  ...   \n",
       "50%     -0.086684       0.006563    0.085304       0.004807   -0.099744  ...   \n",
       "75%     -0.035391       0.014132    0.198261       0.012390   -0.018799  ...   \n",
       "max      0.075341       0.060323    0.394617       0.033647    0.334550  ...   \n",
       "\n",
       "       SR_B2_variance         SR_B3  SR_B3_variance         SR_B4  \\\n",
       "count    2.890000e+02    289.000000    2.890000e+02    289.000000   \n",
       "mean     9.045522e+07  10615.830450    7.408582e+07  10506.498270   \n",
       "std      5.521805e+07   1993.101545    4.552992e+07   2314.278669   \n",
       "min      1.162786e+06   7927.500000    1.564462e+06   7553.000000   \n",
       "25%      5.040000e+07   9096.000000    4.090000e+07   8584.000000   \n",
       "50%      8.040000e+07  10084.000000    6.820000e+07   9983.500000   \n",
       "75%      1.290000e+08  11803.000000    1.070000e+08  11664.000000   \n",
       "max      2.470000e+08  21548.500000    2.160000e+08  22689.000000   \n",
       "\n",
       "       SR_B4_variance         SR_B5  SR_B5_variance         SR_B6  \\\n",
       "count    2.890000e+02    289.000000    2.890000e+02    289.000000   \n",
       "mean     7.412261e+07  14382.070934    5.333776e+07  12262.877163   \n",
       "std      4.505212e+07   3437.379850    3.267819e+07   3322.113324   \n",
       "min      1.680375e+06   7087.000000    1.477863e+06   7342.000000   \n",
       "25%      3.960000e+07  11749.500000    2.760000e+07   9770.000000   \n",
       "50%      6.720000e+07  14738.500000    4.980000e+07  11277.500000   \n",
       "75%      1.080000e+08  16921.000000    7.210000e+07  14294.000000   \n",
       "max      2.190000e+08  23123.000000    1.600000e+08  25693.500000   \n",
       "\n",
       "       SR_B6_variance         SR_B7  \n",
       "count    2.890000e+02    289.000000  \n",
       "mean     2.093613e+07  10549.685121  \n",
       "std      1.318477e+07   2737.395136  \n",
       "min      6.685352e+04   7293.000000  \n",
       "25%      9.838396e+06   8597.500000  \n",
       "50%      2.050000e+07   9380.000000  \n",
       "75%      2.900000e+07  12094.000000  \n",
       "max      6.470000e+07  23328.500000  \n",
       "\n",
       "[8 rows x 25 columns]"
      ]
     },
     "execution_count": 13,
     "metadata": {},
     "output_type": "execute_result"
    }
   ],
   "source": [
    "rawdata.describe()"
   ]
  },
  {
   "cell_type": "code",
   "execution_count": 14,
   "id": "381c61b0",
   "metadata": {},
   "outputs": [],
   "source": [
    "x = rawdata.drop('class',axis = 1)\n",
    "y = rawdata['class']"
   ]
  },
  {
   "cell_type": "code",
   "execution_count": 15,
   "id": "f5c0cc62",
   "metadata": {},
   "outputs": [
    {
     "data": {
      "text/plain": [
       "(87, 24)"
      ]
     },
     "execution_count": 15,
     "metadata": {},
     "output_type": "execute_result"
    }
   ],
   "source": [
    "from sklearn.model_selection import train_test_split\n",
    "x_train,x_test,y_train,y_test = train_test_split(x,y,test_size = 0.3,random_state=0)#30%为测试集，则70%为训练集\n",
    "x_train.shape#查看训练集数据量\n",
    "x_test.shape#查看测试集数据量"
   ]
  },
  {
   "cell_type": "markdown",
   "id": "9e37e364",
   "metadata": {},
   "source": [
    "from sklearn.ensemble import RandomForestClassifier"
   ]
  },
  {
   "cell_type": "code",
   "execution_count": 16,
   "id": "f8df5dc0",
   "metadata": {},
   "outputs": [
    {
     "data": {
      "text/html": [
       "<style>#sk-container-id-2 {color: black;background-color: white;}#sk-container-id-2 pre{padding: 0;}#sk-container-id-2 div.sk-toggleable {background-color: white;}#sk-container-id-2 label.sk-toggleable__label {cursor: pointer;display: block;width: 100%;margin-bottom: 0;padding: 0.3em;box-sizing: border-box;text-align: center;}#sk-container-id-2 label.sk-toggleable__label-arrow:before {content: \"▸\";float: left;margin-right: 0.25em;color: #696969;}#sk-container-id-2 label.sk-toggleable__label-arrow:hover:before {color: black;}#sk-container-id-2 div.sk-estimator:hover label.sk-toggleable__label-arrow:before {color: black;}#sk-container-id-2 div.sk-toggleable__content {max-height: 0;max-width: 0;overflow: hidden;text-align: left;background-color: #f0f8ff;}#sk-container-id-2 div.sk-toggleable__content pre {margin: 0.2em;color: black;border-radius: 0.25em;background-color: #f0f8ff;}#sk-container-id-2 input.sk-toggleable__control:checked~div.sk-toggleable__content {max-height: 200px;max-width: 100%;overflow: auto;}#sk-container-id-2 input.sk-toggleable__control:checked~label.sk-toggleable__label-arrow:before {content: \"▾\";}#sk-container-id-2 div.sk-estimator input.sk-toggleable__control:checked~label.sk-toggleable__label {background-color: #d4ebff;}#sk-container-id-2 div.sk-label input.sk-toggleable__control:checked~label.sk-toggleable__label {background-color: #d4ebff;}#sk-container-id-2 input.sk-hidden--visually {border: 0;clip: rect(1px 1px 1px 1px);clip: rect(1px, 1px, 1px, 1px);height: 1px;margin: -1px;overflow: hidden;padding: 0;position: absolute;width: 1px;}#sk-container-id-2 div.sk-estimator {font-family: monospace;background-color: #f0f8ff;border: 1px dotted black;border-radius: 0.25em;box-sizing: border-box;margin-bottom: 0.5em;}#sk-container-id-2 div.sk-estimator:hover {background-color: #d4ebff;}#sk-container-id-2 div.sk-parallel-item::after {content: \"\";width: 100%;border-bottom: 1px solid gray;flex-grow: 1;}#sk-container-id-2 div.sk-label:hover label.sk-toggleable__label {background-color: #d4ebff;}#sk-container-id-2 div.sk-serial::before {content: \"\";position: absolute;border-left: 1px solid gray;box-sizing: border-box;top: 0;bottom: 0;left: 50%;z-index: 0;}#sk-container-id-2 div.sk-serial {display: flex;flex-direction: column;align-items: center;background-color: white;padding-right: 0.2em;padding-left: 0.2em;position: relative;}#sk-container-id-2 div.sk-item {position: relative;z-index: 1;}#sk-container-id-2 div.sk-parallel {display: flex;align-items: stretch;justify-content: center;background-color: white;position: relative;}#sk-container-id-2 div.sk-item::before, #sk-container-id-2 div.sk-parallel-item::before {content: \"\";position: absolute;border-left: 1px solid gray;box-sizing: border-box;top: 0;bottom: 0;left: 50%;z-index: -1;}#sk-container-id-2 div.sk-parallel-item {display: flex;flex-direction: column;z-index: 1;position: relative;background-color: white;}#sk-container-id-2 div.sk-parallel-item:first-child::after {align-self: flex-end;width: 50%;}#sk-container-id-2 div.sk-parallel-item:last-child::after {align-self: flex-start;width: 50%;}#sk-container-id-2 div.sk-parallel-item:only-child::after {width: 0;}#sk-container-id-2 div.sk-dashed-wrapped {border: 1px dashed gray;margin: 0 0.4em 0.5em 0.4em;box-sizing: border-box;padding-bottom: 0.4em;background-color: white;}#sk-container-id-2 div.sk-label label {font-family: monospace;font-weight: bold;display: inline-block;line-height: 1.2em;}#sk-container-id-2 div.sk-label-container {text-align: center;}#sk-container-id-2 div.sk-container {/* jupyter's `normalize.less` sets `[hidden] { display: none; }` but bootstrap.min.css set `[hidden] { display: none !important; }` so we also need the `!important` here to be able to override the default hidden behavior on the sphinx rendered scikit-learn.org. See: https://github.com/scikit-learn/scikit-learn/issues/21755 */display: inline-block !important;position: relative;}#sk-container-id-2 div.sk-text-repr-fallback {display: none;}</style><div id=\"sk-container-id-2\" class=\"sk-top-container\"><div class=\"sk-text-repr-fallback\"><pre>RandomForestClassifier()</pre><b>In a Jupyter environment, please rerun this cell to show the HTML representation or trust the notebook. <br />On GitHub, the HTML representation is unable to render, please try loading this page with nbviewer.org.</b></div><div class=\"sk-container\" hidden><div class=\"sk-item\"><div class=\"sk-estimator sk-toggleable\"><input class=\"sk-toggleable__control sk-hidden--visually\" id=\"sk-estimator-id-2\" type=\"checkbox\" checked><label for=\"sk-estimator-id-2\" class=\"sk-toggleable__label sk-toggleable__label-arrow\">RandomForestClassifier</label><div class=\"sk-toggleable__content\"><pre>RandomForestClassifier()</pre></div></div></div></div></div>"
      ],
      "text/plain": [
       "RandomForestClassifier()"
      ]
     },
     "execution_count": 16,
     "metadata": {},
     "output_type": "execute_result"
    }
   ],
   "source": [
    "from sklearn.ensemble import RandomForestClassifier\n",
    "rfc = RandomForestClassifier()#使用默认参数将随机森林分类器实例化\n",
    "rfc.fit(x_train,y_train)#模型拟合"
   ]
  },
  {
   "cell_type": "code",
   "execution_count": 17,
   "id": "dcaaa784",
   "metadata": {},
   "outputs": [
    {
     "name": "stdout",
     "output_type": "stream",
     "text": [
      "0.7701149425287356\n"
     ]
    }
   ],
   "source": [
    "score1 = rfc.score(x_test,y_test)#查看拟合出的分类器在测试集上的效果\n",
    "print(score1)\n",
    "#返回值：0.93\n",
    "#得分高于0.9，表示预测效果较好。\n",
    "#评分方法2："
   ]
  },
  {
   "cell_type": "code",
   "execution_count": 18,
   "id": "e99e6ebc",
   "metadata": {},
   "outputs": [
    {
     "name": "stdout",
     "output_type": "stream",
     "text": [
      "               特征名     特征重要性\n",
      "11              SR  0.075524\n",
      "13  SR_B1_variance  0.059664\n",
      "10   NDWI_variance  0.059113\n",
      "7             NDVI  0.054923\n",
      "15  SR_B2_variance  0.054538\n",
      "6    NDBI_variance  0.051148\n",
      "9             NDWI  0.050523\n",
      "17  SR_B3_variance  0.046908\n",
      "2     EVI_variance  0.044266\n",
      "21  SR_B5_variance  0.042156\n",
      "18           SR_B4  0.038547\n",
      "3            MNDWI  0.038328\n",
      "0            class  0.037975\n",
      "20           SR_B5  0.036826\n",
      "23  SR_B6_variance  0.035635\n",
      "8    NDVI_variance  0.035148\n",
      "16           SR_B3  0.035115\n",
      "4   MNDWI_variance  0.034945\n",
      "14           SR_B2  0.032642\n",
      "1              EVI  0.030575\n",
      "12           SR_B1  0.029180\n",
      "19  SR_B4_variance  0.028458\n",
      "5             NDBI  0.027026\n",
      "22           SR_B6  0.020839\n"
     ]
    }
   ],
   "source": [
    "importance = rfc.feature_importances_#查看各个特征列的重要性\n",
    "col = rawdata.columns#查看数据框的全部字段名（包括isrun）,返回格式为Index\n",
    "import numpy as np\n",
    "re = pd.DataFrame({'特征名':np.array(col)[:-1],'特征重要性':importance}).sort_values(by = '特征重要性',axis = 0,ascending = False)\n",
    "print(re)"
   ]
  },
  {
   "cell_type": "code",
   "execution_count": 2131,
   "id": "fac377d1",
   "metadata": {},
   "outputs": [
    {
     "name": "stdout",
     "output_type": "stream",
     "text": [
      "[0 4 4 4 1 1 0 4 3 3 2 1 3 4 0 1 4 1 2 2 2 4 4 4 4 4 4 4 4 2 4 3 3 4 4 3 4\n",
      " 4 3 0 2 2 1 1 1 4 2 4 2 2 0 1 2 4 4 2 1 3 0 3 4 2 4 0 3 2 4 3 4 2 2 4 1 2\n",
      " 4 4 2 2 3 3 4 1 2 1 0 2 3]\n",
      "55     0\n",
      "182    2\n",
      "92     4\n",
      "209    4\n",
      "261    1\n",
      "      ..\n",
      "167    2\n",
      "271    1\n",
      "54     0\n",
      "129    2\n",
      "18     3\n",
      "Name: class, Length: 87, dtype: int64\n"
     ]
    }
   ],
   "source": [
    "y_pred = rfc.predict(x_test)\n",
    "print(y_pred)\n",
    "print(y_test)"
   ]
  },
  {
   "cell_type": "code",
   "execution_count": 2132,
   "id": "fe1287ab-f910-4c36-ad08-7f5d1e9627b3",
   "metadata": {},
   "outputs": [
    {
     "data": {
      "text/plain": [
       "0.8498269581056466"
      ]
     },
     "execution_count": 2132,
     "metadata": {},
     "output_type": "execute_result"
    }
   ],
   "source": [
    "f1_score(y_test, y_pred, average='macro')"
   ]
  },
  {
   "cell_type": "code",
   "execution_count": 2136,
   "id": "2066f58d-142d-45c3-ade0-e8c1f8339d6d",
   "metadata": {},
   "outputs": [
    {
     "data": {
      "text/plain": [
       "array([[ 7,  0,  0,  0,  1],\n",
       "       [ 0, 12,  0,  2,  0],\n",
       "       [ 1,  0, 18,  2,  3],\n",
       "       [ 0,  0,  1, 10,  0],\n",
       "       [ 0,  1,  2,  0, 27]], dtype=int64)"
      ]
     },
     "execution_count": 2136,
     "metadata": {},
     "output_type": "execute_result"
    }
   ],
   "source": [
    "confusion_matrix(y_test, y_pred)"
   ]
  },
  {
   "cell_type": "code",
   "execution_count": 1,
   "id": "b2b6a5b0-70b4-4101-841b-03ca3fb4a6bc",
   "metadata": {},
   "outputs": [
    {
     "data": {
      "image/png": "[encoded data removed]",
      "text/plain": [
       "<Figure size 1200x500 with 1 Axes>"
      ]
     },
     "metadata": {},
     "output_type": "display_data"
    }
   ],
   "source": [
    "import matplotlib\n",
    "import matplotlib.pyplot as plt\n",
    "import numpy as np\n",
    "\n",
    "def drawHistogram():\n",
    "    matplotlib.rc(\"font\", family='Times New Roman')\n",
    "    list1 = np.array([0.91, 0.89, 0.87, 0.90, 0.93, 0.87]) \n",
    "    list2 = np.array([0.90, 0.88, 0.86, 0.89, 0.92, 0.86]) \n",
    "    length = len(list1)\n",
    "    x = np.arange(length) \n",
    "    listDate = [\"Africa\", \"Asia\", \"Europe\", \"Oceania\", \"South America\", \"North America\"]\n",
    "    y=[0, 0.2, 0.4, 0.6, 0.8, 1.0]\n",
    "    plt.figure(figsize=(12, 5))\n",
    "    total_width, n = 0.8, 2   # 柱状图总宽度，有几组数据\n",
    "    width = total_width / n   # 单个柱状图的宽度\n",
    "    x1 = x - width / 2   # 第一组数据柱状图横坐标起始位置\n",
    "    x2 = x1 + width   # 第二组数据柱状图横坐标起始位置\n",
    "\n",
    "    # plt.xlabel(\"星期\")   # 横坐标label 此处可以不添加\n",
    "    plt.ylabel(\"Accuracy\",fontsize=16,weight='bold') \n",
    "    plt.xlabel(\"Continent\",fontsize=16,weight='bold')\n",
    "    plt.bar(x1, list1, width=width, label=\"Overall Accuracy\",color='#37BEDC')\n",
    "    plt.bar(x2, list2, width=width, label=\"F1-score\",color='#FE6500')\n",
    "    plt.xticks(x, listDate,fontsize=14)\n",
    "    plt.yticks(fontsize=14)\n",
    "    num1 = 0.31\n",
    "    num2 = 1.01\n",
    "    num3 = 3\n",
    "    num4 = 0\n",
    "    legend= plt.legend(ncol=2,bbox_to_anchor=(num1, num2), loc=num3, borderaxespad=num4,fontsize=14)\n",
    "    #legend_text = legend.get_texts()\n",
    "    #for text in legend_text:\n",
    "       # text.set_weight('bold')\n",
    "\n",
    "    plt.savefig('E:\\\\论文\\\\全球岸线\\\\overall accuract.png', dpi=800)\n",
    "    plt.show()\n",
    "if __name__ == '__main__':\n",
    "    drawHistogram()\n"
   ]
  },
  {
   "cell_type": "code",
   "execution_count": null,
   "id": "351e3d93-a93f-4409-b4e6-cd4e5fca7979",
   "metadata": {},
   "outputs": [],
   "source": []
  }
 ],
 "metadata": {
  "kernelspec": {
   "display_name": "Python 3 (ipykernel)",
   "language": "python",
   "name": "python3"
  },
  "language_info": {
   "codemirror_mode": {
    "name": "ipython",
    "version": 3
   },
   "file_extension": ".py",
   "mimetype": "text/x-python",
   "name": "python",
   "nbconvert_exporter": "python",
   "pygments_lexer": "ipython3",
   "version": "3.11.7"
  }
 },
 "nbformat": 4,
 "nbformat_minor": 5
}
