{
 "cells": [
  {
   "cell_type": "code",
   "execution_count": 9,
   "id": "7276e8f1",
   "metadata": {},
   "outputs": [],
   "source": [
    "import pandas as pd\n",
    "path = 'G:\\\\文章\\\\全球岸线\\\\Global distribution and dynamics of muddy coasts\\\\PixelTrainingDataframe.csv'\n",
    "rawdata = pd.read_csv(path,encoding = 'gbk')#字段名为中文，编码方式指定为gbk"
   ]
  },
  {
   "cell_type": "code",
   "execution_count": 10,
   "id": "9e4d557d",
   "metadata": {},
   "outputs": [
    {
     "data": {
      "text/html": [
       "<div>\n",
       "<style scoped>\n",
       "    .dataframe tbody tr th:only-of-type {\n",
       "        vertical-align: middle;\n",
       "    }\n",
       "\n",
       "    .dataframe tbody tr th {\n",
       "        vertical-align: top;\n",
       "    }\n",
       "\n",
       "    .dataframe thead th {\n",
       "        text-align: right;\n",
       "    }\n",
       "</style>\n",
       "<table border=\"1\" class=\"dataframe\">\n",
       "  <thead>\n",
       "    <tr style=\"text-align: right;\">\n",
       "      <th></th>\n",
       "      <th>Aerosols</th>\n",
       "      <th>Blue</th>\n",
       "      <th>Green</th>\n",
       "      <th>Red</th>\n",
       "      <th>Red Edge 1</th>\n",
       "      <th>Red Edge 2</th>\n",
       "      <th>Red Edge 3</th>\n",
       "      <th>NIR</th>\n",
       "      <th>Red Edge 4</th>\n",
       "      <th>SWIR 1</th>\n",
       "      <th>SWIR 2</th>\n",
       "      <th>NDWI</th>\n",
       "      <th>NDVI</th>\n",
       "      <th>num</th>\n",
       "    </tr>\n",
       "  </thead>\n",
       "  <tbody>\n",
       "    <tr>\n",
       "      <th>count</th>\n",
       "      <td>3240.000000</td>\n",
       "      <td>3240.000000</td>\n",
       "      <td>3240.000000</td>\n",
       "      <td>3240.000000</td>\n",
       "      <td>3240.000000</td>\n",
       "      <td>3240.000000</td>\n",
       "      <td>3240.000000</td>\n",
       "      <td>3240.000000</td>\n",
       "      <td>3240.00000</td>\n",
       "      <td>3240.000000</td>\n",
       "      <td>3240.000000</td>\n",
       "      <td>3240.000000</td>\n",
       "      <td>3240.000000</td>\n",
       "      <td>3240.000000</td>\n",
       "    </tr>\n",
       "    <tr>\n",
       "      <th>mean</th>\n",
       "      <td>1410.626967</td>\n",
       "      <td>1194.423969</td>\n",
       "      <td>1072.450101</td>\n",
       "      <td>950.961295</td>\n",
       "      <td>1036.315809</td>\n",
       "      <td>1284.559767</td>\n",
       "      <td>1437.103182</td>\n",
       "      <td>1346.887705</td>\n",
       "      <td>1500.72422</td>\n",
       "      <td>1000.274772</td>\n",
       "      <td>628.526246</td>\n",
       "      <td>0.003849</td>\n",
       "      <td>0.090153</td>\n",
       "      <td>3.623148</td>\n",
       "    </tr>\n",
       "    <tr>\n",
       "      <th>std</th>\n",
       "      <td>248.222256</td>\n",
       "      <td>388.366306</td>\n",
       "      <td>487.453570</td>\n",
       "      <td>635.805409</td>\n",
       "      <td>608.570360</td>\n",
       "      <td>758.115313</td>\n",
       "      <td>879.962181</td>\n",
       "      <td>876.748975</td>\n",
       "      <td>1005.64536</td>\n",
       "      <td>931.156683</td>\n",
       "      <td>673.818104</td>\n",
       "      <td>0.348661</td>\n",
       "      <td>0.325637</td>\n",
       "      <td>2.011611</td>\n",
       "    </tr>\n",
       "    <tr>\n",
       "      <th>min</th>\n",
       "      <td>975.000000</td>\n",
       "      <td>701.000000</td>\n",
       "      <td>423.000000</td>\n",
       "      <td>215.000000</td>\n",
       "      <td>170.000000</td>\n",
       "      <td>145.000000</td>\n",
       "      <td>135.000000</td>\n",
       "      <td>102.000000</td>\n",
       "      <td>96.00000</td>\n",
       "      <td>13.000000</td>\n",
       "      <td>8.473684</td>\n",
       "      <td>-0.684513</td>\n",
       "      <td>-0.500000</td>\n",
       "      <td>1.000000</td>\n",
       "    </tr>\n",
       "    <tr>\n",
       "      <th>25%</th>\n",
       "      <td>1227.000000</td>\n",
       "      <td>918.000000</td>\n",
       "      <td>748.000000</td>\n",
       "      <td>475.000000</td>\n",
       "      <td>701.000000</td>\n",
       "      <td>685.750000</td>\n",
       "      <td>736.805556</td>\n",
       "      <td>598.178571</td>\n",
       "      <td>608.75000</td>\n",
       "      <td>142.000000</td>\n",
       "      <td>87.000000</td>\n",
       "      <td>-0.290820</td>\n",
       "      <td>-0.210848</td>\n",
       "      <td>2.000000</td>\n",
       "    </tr>\n",
       "    <tr>\n",
       "      <th>50%</th>\n",
       "      <td>1365.500000</td>\n",
       "      <td>1095.000000</td>\n",
       "      <td>989.399729</td>\n",
       "      <td>808.000000</td>\n",
       "      <td>952.000000</td>\n",
       "      <td>1248.000000</td>\n",
       "      <td>1387.142857</td>\n",
       "      <td>1275.000000</td>\n",
       "      <td>1441.00000</td>\n",
       "      <td>815.500000</td>\n",
       "      <td>414.000000</td>\n",
       "      <td>-0.063657</td>\n",
       "      <td>0.048485</td>\n",
       "      <td>3.000000</td>\n",
       "    </tr>\n",
       "    <tr>\n",
       "      <th>75%</th>\n",
       "      <td>1542.458333</td>\n",
       "      <td>1345.000000</td>\n",
       "      <td>1227.000000</td>\n",
       "      <td>1164.035714</td>\n",
       "      <td>1222.000000</td>\n",
       "      <td>1830.327465</td>\n",
       "      <td>2109.000000</td>\n",
       "      <td>2027.102113</td>\n",
       "      <td>2315.75000</td>\n",
       "      <td>1632.304878</td>\n",
       "      <td>906.500000</td>\n",
       "      <td>0.277332</td>\n",
       "      <td>0.379004</td>\n",
       "      <td>5.000000</td>\n",
       "    </tr>\n",
       "    <tr>\n",
       "      <th>max</th>\n",
       "      <td>2657.294118</td>\n",
       "      <td>3639.294118</td>\n",
       "      <td>3840.235294</td>\n",
       "      <td>4501.764706</td>\n",
       "      <td>4077.117647</td>\n",
       "      <td>4366.352941</td>\n",
       "      <td>4779.000000</td>\n",
       "      <td>4758.000000</td>\n",
       "      <td>5362.00000</td>\n",
       "      <td>4054.000000</td>\n",
       "      <td>2900.296296</td>\n",
       "      <td>0.821046</td>\n",
       "      <td>0.802130</td>\n",
       "      <td>7.000000</td>\n",
       "    </tr>\n",
       "  </tbody>\n",
       "</table>\n",
       "</div>"
      ],
      "text/plain": [
       "          Aerosols         Blue        Green          Red   Red Edge 1  \\\n",
       "count  3240.000000  3240.000000  3240.000000  3240.000000  3240.000000   \n",
       "mean   1410.626967  1194.423969  1072.450101   950.961295  1036.315809   \n",
       "std     248.222256   388.366306   487.453570   635.805409   608.570360   \n",
       "min     975.000000   701.000000   423.000000   215.000000   170.000000   \n",
       "25%    1227.000000   918.000000   748.000000   475.000000   701.000000   \n",
       "50%    1365.500000  1095.000000   989.399729   808.000000   952.000000   \n",
       "75%    1542.458333  1345.000000  1227.000000  1164.035714  1222.000000   \n",
       "max    2657.294118  3639.294118  3840.235294  4501.764706  4077.117647   \n",
       "\n",
       "        Red Edge 2   Red Edge 3          NIR  Red Edge 4       SWIR 1  \\\n",
       "count  3240.000000  3240.000000  3240.000000  3240.00000  3240.000000   \n",
       "mean   1284.559767  1437.103182  1346.887705  1500.72422  1000.274772   \n",
       "std     758.115313   879.962181   876.748975  1005.64536   931.156683   \n",
       "min     145.000000   135.000000   102.000000    96.00000    13.000000   \n",
       "25%     685.750000   736.805556   598.178571   608.75000   142.000000   \n",
       "50%    1248.000000  1387.142857  1275.000000  1441.00000   815.500000   \n",
       "75%    1830.327465  2109.000000  2027.102113  2315.75000  1632.304878   \n",
       "max    4366.352941  4779.000000  4758.000000  5362.00000  4054.000000   \n",
       "\n",
       "            SWIR 2         NDWI         NDVI          num  \n",
       "count  3240.000000  3240.000000  3240.000000  3240.000000  \n",
       "mean    628.526246     0.003849     0.090153     3.623148  \n",
       "std     673.818104     0.348661     0.325637     2.011611  \n",
       "min       8.473684    -0.684513    -0.500000     1.000000  \n",
       "25%      87.000000    -0.290820    -0.210848     2.000000  \n",
       "50%     414.000000    -0.063657     0.048485     3.000000  \n",
       "75%     906.500000     0.277332     0.379004     5.000000  \n",
       "max    2900.296296     0.821046     0.802130     7.000000  "
      ]
     },
     "execution_count": 10,
     "metadata": {},
     "output_type": "execute_result"
    }
   ],
   "source": [
    "rawdata.describe()"
   ]
  },
  {
   "cell_type": "code",
   "execution_count": 11,
   "id": "381c61b0",
   "metadata": {},
   "outputs": [],
   "source": [
    "x = rawdata.drop('num',axis = 1)\n",
    "y = rawdata['num']"
   ]
  },
  {
   "cell_type": "code",
   "execution_count": 14,
   "id": "f5c0cc62",
   "metadata": {},
   "outputs": [
    {
     "data": {
      "text/plain": [
       "(972, 13)"
      ]
     },
     "execution_count": 14,
     "metadata": {},
     "output_type": "execute_result"
    }
   ],
   "source": [
    "from sklearn.model_selection import train_test_split\n",
    "x_train,x_test,y_train,y_test = train_test_split(x,y,test_size = 0.3,random_state=0)#30%为测试集，则70%为训练集\n",
    "x_train.shape#查看训练集数据量\n",
    "x_test.shape#查看测试集数据量"
   ]
  },
  {
   "cell_type": "markdown",
   "id": "9e37e364",
   "metadata": {},
   "source": [
    "from sklearn.ensemble import RandomForestClassifier"
   ]
  },
  {
   "cell_type": "code",
   "execution_count": 15,
   "id": "f8df5dc0",
   "metadata": {},
   "outputs": [
    {
     "data": {
      "text/html": [
       "<style>#sk-container-id-1 {color: black;background-color: white;}#sk-container-id-1 pre{padding: 0;}#sk-container-id-1 div.sk-toggleable {background-color: white;}#sk-container-id-1 label.sk-toggleable__label {cursor: pointer;display: block;width: 100%;margin-bottom: 0;padding: 0.3em;box-sizing: border-box;text-align: center;}#sk-container-id-1 label.sk-toggleable__label-arrow:before {content: \"▸\";float: left;margin-right: 0.25em;color: #696969;}#sk-container-id-1 label.sk-toggleable__label-arrow:hover:before {color: black;}#sk-container-id-1 div.sk-estimator:hover label.sk-toggleable__label-arrow:before {color: black;}#sk-container-id-1 div.sk-toggleable__content {max-height: 0;max-width: 0;overflow: hidden;text-align: left;background-color: #f0f8ff;}#sk-container-id-1 div.sk-toggleable__content pre {margin: 0.2em;color: black;border-radius: 0.25em;background-color: #f0f8ff;}#sk-container-id-1 input.sk-toggleable__control:checked~div.sk-toggleable__content {max-height: 200px;max-width: 100%;overflow: auto;}#sk-container-id-1 input.sk-toggleable__control:checked~label.sk-toggleable__label-arrow:before {content: \"▾\";}#sk-container-id-1 div.sk-estimator input.sk-toggleable__control:checked~label.sk-toggleable__label {background-color: #d4ebff;}#sk-container-id-1 div.sk-label input.sk-toggleable__control:checked~label.sk-toggleable__label {background-color: #d4ebff;}#sk-container-id-1 input.sk-hidden--visually {border: 0;clip: rect(1px 1px 1px 1px);clip: rect(1px, 1px, 1px, 1px);height: 1px;margin: -1px;overflow: hidden;padding: 0;position: absolute;width: 1px;}#sk-container-id-1 div.sk-estimator {font-family: monospace;background-color: #f0f8ff;border: 1px dotted black;border-radius: 0.25em;box-sizing: border-box;margin-bottom: 0.5em;}#sk-container-id-1 div.sk-estimator:hover {background-color: #d4ebff;}#sk-container-id-1 div.sk-parallel-item::after {content: \"\";width: 100%;border-bottom: 1px solid gray;flex-grow: 1;}#sk-container-id-1 div.sk-label:hover label.sk-toggleable__label {background-color: #d4ebff;}#sk-container-id-1 div.sk-serial::before {content: \"\";position: absolute;border-left: 1px solid gray;box-sizing: border-box;top: 0;bottom: 0;left: 50%;z-index: 0;}#sk-container-id-1 div.sk-serial {display: flex;flex-direction: column;align-items: center;background-color: white;padding-right: 0.2em;padding-left: 0.2em;position: relative;}#sk-container-id-1 div.sk-item {position: relative;z-index: 1;}#sk-container-id-1 div.sk-parallel {display: flex;align-items: stretch;justify-content: center;background-color: white;position: relative;}#sk-container-id-1 div.sk-item::before, #sk-container-id-1 div.sk-parallel-item::before {content: \"\";position: absolute;border-left: 1px solid gray;box-sizing: border-box;top: 0;bottom: 0;left: 50%;z-index: -1;}#sk-container-id-1 div.sk-parallel-item {display: flex;flex-direction: column;z-index: 1;position: relative;background-color: white;}#sk-container-id-1 div.sk-parallel-item:first-child::after {align-self: flex-end;width: 50%;}#sk-container-id-1 div.sk-parallel-item:last-child::after {align-self: flex-start;width: 50%;}#sk-container-id-1 div.sk-parallel-item:only-child::after {width: 0;}#sk-container-id-1 div.sk-dashed-wrapped {border: 1px dashed gray;margin: 0 0.4em 0.5em 0.4em;box-sizing: border-box;padding-bottom: 0.4em;background-color: white;}#sk-container-id-1 div.sk-label label {font-family: monospace;font-weight: bold;display: inline-block;line-height: 1.2em;}#sk-container-id-1 div.sk-label-container {text-align: center;}#sk-container-id-1 div.sk-container {/* jupyter's `normalize.less` sets `[hidden] { display: none; }` but bootstrap.min.css set `[hidden] { display: none !important; }` so we also need the `!important` here to be able to override the default hidden behavior on the sphinx rendered scikit-learn.org. See: https://github.com/scikit-learn/scikit-learn/issues/21755 */display: inline-block !important;position: relative;}#sk-container-id-1 div.sk-text-repr-fallback {display: none;}</style><div id=\"sk-container-id-1\" class=\"sk-top-container\"><div class=\"sk-text-repr-fallback\"><pre>RandomForestClassifier()</pre><b>In a Jupyter environment, please rerun this cell to show the HTML representation or trust the notebook. <br />On GitHub, the HTML representation is unable to render, please try loading this page with nbviewer.org.</b></div><div class=\"sk-container\" hidden><div class=\"sk-item\"><div class=\"sk-estimator sk-toggleable\"><input class=\"sk-toggleable__control sk-hidden--visually\" id=\"sk-estimator-id-1\" type=\"checkbox\" checked><label for=\"sk-estimator-id-1\" class=\"sk-toggleable__label sk-toggleable__label-arrow\">RandomForestClassifier</label><div class=\"sk-toggleable__content\"><pre>RandomForestClassifier()</pre></div></div></div></div></div>"
      ],
      "text/plain": [
       "RandomForestClassifier()"
      ]
     },
     "execution_count": 15,
     "metadata": {},
     "output_type": "execute_result"
    }
   ],
   "source": [
    "from sklearn.ensemble import RandomForestClassifier\n",
    "rfc = RandomForestClassifier()#使用默认参数将随机森林分类器实例化\n",
    "rfc.fit(x_train,y_train)#模型拟合"
   ]
  },
  {
   "cell_type": "code",
   "execution_count": 17,
   "id": "dcaaa784",
   "metadata": {},
   "outputs": [
    {
     "name": "stdout",
     "output_type": "stream",
     "text": [
      "0.8508230452674898\n"
     ]
    }
   ],
   "source": [
    "score1 = rfc.score(x_test,y_test)#查看拟合出的分类器在测试集上的效果\n",
    "print(score1)\n",
    "#返回值：0.93\n",
    "#得分高于0.9，表示预测效果较好。\n",
    "#评分方法2："
   ]
  },
  {
   "cell_type": "code",
   "execution_count": 18,
   "id": "e99e6ebc",
   "metadata": {},
   "outputs": [
    {
     "name": "stdout",
     "output_type": "stream",
     "text": [
      "           特征名     特征重要性\n",
      "12        NDVI  0.113754\n",
      "1         Blue  0.102713\n",
      "8   Red Edge 4  0.090991\n",
      "3          Red  0.089413\n",
      "5   Red Edge 2  0.085207\n",
      "6   Red Edge 3  0.081550\n",
      "7          NIR  0.081180\n",
      "11        NDWI  0.076726\n",
      "4   Red Edge 1  0.072604\n",
      "2        Green  0.063434\n",
      "0     Aerosols  0.052364\n",
      "10      SWIR 2  0.047875\n",
      "9       SWIR 1  0.042188\n"
     ]
    }
   ],
   "source": [
    "importance = rfc.feature_importances_#查看各个特征列的重要性\n",
    "col = rawdata.columns#查看数据框的全部字段名（包括isrun）,返回格式为Index\n",
    "import numpy as np\n",
    "re = pd.DataFrame({'特征名':np.array(col)[:-1],'特征重要性':importance}).sort_values(by = '特征重要性',axis = 0,ascending = False)\n",
    "print(re)"
   ]
  },
  {
   "cell_type": "code",
   "execution_count": null,
   "id": "fac377d1",
   "metadata": {},
   "outputs": [],
   "source": []
  }
 ],
 "metadata": {
  "kernelspec": {
   "display_name": "Python 3 (ipykernel)",
   "language": "python",
   "name": "python3"
  },
  "language_info": {
   "codemirror_mode": {
    "name": "ipython",
    "version": 3
   },
   "file_extension": ".py",
   "mimetype": "text/x-python",
   "name": "python",
   "nbconvert_exporter": "python",
   "pygments_lexer": "ipython3",
   "version": "3.8.13"
  }
 },
 "nbformat": 4,
 "nbformat_minor": 5
}
